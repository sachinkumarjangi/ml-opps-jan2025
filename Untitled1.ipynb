{
  "nbformat": 4,
  "nbformat_minor": 0,
  "metadata": {
    "colab": {
      "provenance": [],
      "authorship_tag": "ABX9TyMcrYCdpvhqJAQtLJXVwSmD",
      "include_colab_link": true
    },
    "kernelspec": {
      "name": "python3",
      "display_name": "Python 3"
    },
    "language_info": {
      "name": "python"
    }
  },
  "cells": [
    {
      "cell_type": "markdown",
      "metadata": {
        "id": "view-in-github",
        "colab_type": "text"
      },
      "source": [
        "<a href=\"https://colab.research.google.com/github/sachinkumarjangi/ml-opps-jan2025/blob/main/Untitled1.ipynb\" target=\"_parent\"><img src=\"https://colab.research.google.com/assets/colab-badge.svg\" alt=\"Open In Colab\"/></a>"
      ]
    },
    {
      "cell_type": "code",
      "execution_count": 1,
      "metadata": {
        "id": "kiw49YFCJA5q"
      },
      "outputs": [],
      "source": [
        "import cv2\n",
        "import numpy as np\n",
        "import matplotlib.pyplot as plt\n"
      ]
    },
    {
      "cell_type": "code",
      "source": [
        "def gamma_correction(image,gamma):\n",
        "  inv_gamma = 1.0/gamma\n",
        "  table= np.array([((i/255)**inv_gamma)*255 for i in np.arange(0,256)]).astype(\"uint8\")\n",
        "  return cv2.LUT(image,table)"
      ],
      "metadata": {
        "id": "19jXaxEkJuB8"
      },
      "execution_count": 2,
      "outputs": []
    },
    {
      "cell_type": "code",
      "source": [
        "def histogram_equalization(image):\n",
        "  if len(image.shape) == 2:\n",
        "    return cv2.equalizeHist(image)\n",
        "  elif len(image.shape) == 3:\n",
        "    ycrcb = cv2.cvtColor(image,cv2.COLOR_BGR2YCrCb)\n",
        "    ycrcb[:,:,0] = cv2.equalizeHist(ycrcb[:,:,0])\n",
        "    return cv2.cvtColor(ycrcb,cv2.COLOR_YCrCb2BGR)\n",
        ""
      ],
      "metadata": {
        "id": "c7-RzLrzKP2m"
      },
      "execution_count": 3,
      "outputs": []
    },
    {
      "cell_type": "code",
      "source": [
        "def reduce_bit_depth(image,bit_depth):\n",
        "  lavels =2**bit_depth\n",
        "  factor=256//lavels\n",
        "  return(image//factor)*factor"
      ],
      "metadata": {
        "id": "fKzU__ibLe5s"
      },
      "execution_count": 5,
      "outputs": []
    },
    {
      "cell_type": "code",
      "source": [
        "def reduce_spetial_resolution(image):\n",
        "  h,w=image.shape[:2]\n",
        "  return cv2.resize(image,(w//2,h//2))\n",
        ""
      ],
      "metadata": {
        "id": "8jfEGOkfMq6o"
      },
      "execution_count": 6,
      "outputs": []
    },
    {
      "cell_type": "code",
      "source": [
        "def apply_lowpass_filter(image,kernel_size):\n",
        "  return cv2.GaussianBlur(image,(kernel_size,kernel_size),0)\n",
        ""
      ],
      "metadata": {
        "id": "RusYGcSQNIdR"
      },
      "execution_count": 7,
      "outputs": []
    },
    {
      "cell_type": "code",
      "source": [
        "def lowpass_frequency_filter(image):\n",
        "  gray=cv2.cvtColor(image,cv2.COLOR_BGR2GRAY)\n",
        "  dft = np.fft.fft2(gray)\n",
        "  dft_shift = np.fft.fftshift(dft)\n",
        "  rows,collumns = gray.shape\n",
        "  mask=np.zeros((rows,collumns),np.uint8)\n",
        "  center_x,center_y= cols//2,rows//2\n",
        "  mask[center_x-100:center_x+100,center_y-100:center_y+100]=1\n",
        "  dft_shift_filtered = dft_shift*mask\n",
        "  dft_filtered = np.fft.ifftshift(dft_shift_filtered)\n",
        "  filtered_image = np.fft.ifft2(dft_filtered)\n",
        "  return np.abs(filtered_image)"
      ],
      "metadata": {
        "id": "hGyIs8zxNw2o"
      },
      "execution_count": 8,
      "outputs": []
    },
    {
      "cell_type": "code",
      "source": [
        "image_path = 'c:\\\\users\\\\sachin\\desktop\\\\image.jpg'\n",
        "image = cv2.imread(image_path)"
      ],
      "metadata": {
        "id": "BRp3mi3kPm8R"
      },
      "execution_count": 15,
      "outputs": []
    },
    {
      "cell_type": "code",
      "source": [
        "gamma_corrected = gamma_correction(image,2)\n",
        "histogram_equalization=histogram_equalization(image)\n",
        "bit_depth_reduced=reduce_bit_depth(image,4)\n",
        "bit_depth_reduced=reduce_bit_depth(image,8)\n",
        "bit_depth_reduced=reduce_bit_depth(image,16)\n",
        "bit_depth_reduced=reduce_bit_depth(image,24)\n",
        "resize_image=reduce_spetial_resolution(image)\n",
        "lowpass_5x5 =apply_lowpass_filter(image,5)\n",
        "lowpass_7x7=apply_lowpass_filter(image,7)\n",
        "lowpass_frequency_filtered=lowpass_frequency_filter(image)"
      ],
      "metadata": {
        "id": "gG-36v6_QcYJ"
      },
      "execution_count": null,
      "outputs": []
    },
    {
      "cell_type": "code",
      "source": [
        "plt.show()"
      ],
      "metadata": {
        "id": "_7RL4PseTT8C"
      },
      "execution_count": 19,
      "outputs": []
    }
  ]
}